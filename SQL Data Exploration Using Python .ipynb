{
 "cells": [
  {
   "cell_type": "markdown",
   "id": "f7f286bc",
   "metadata": {},
   "source": [
    "# SQL Data Exploration Using Python\n",
    "- This project demonstrates a quick and easy way to be able to run SQL queries with Python on Jupyta notebook. \n",
    "- MySQL is a software that utilizes an SQL database engine. It performs relatively fast and highly reliable."
   ]
  },
  {
   "cell_type": "markdown",
   "id": "238cb612",
   "metadata": {},
   "source": [
    "# Importing MySQL and Pandas"
   ]
  },
  {
   "cell_type": "code",
   "execution_count": 11,
   "id": "9123123e",
   "metadata": {},
   "outputs": [],
   "source": [
    "#Importing the necessary libraries\n",
    "\n",
    "import mysql.connector\n",
    "from mysql.connector import Error\n",
    "import pandas as pd"
   ]
  },
  {
   "cell_type": "markdown",
   "id": "32775995",
   "metadata": {},
   "source": [
    "# Create a Server Connection\n",
    "- Using the connect() function let you to create a database in your environment. This allows users name their database to be called in Python later on. \n",
    "- The connect() function maintains the connection while you are working with the database."
   ]
  },
  {
   "cell_type": "code",
   "execution_count": 20,
   "id": "261da127",
   "metadata": {},
   "outputs": [
    {
     "name": "stdout",
     "output_type": "stream",
     "text": [
      "MySQL Database connection successful\n"
     ]
    }
   ],
   "source": [
    "#Write a funtn that can make create a server connection\n",
    "\n",
    "def create_server_connection(host_name, user_name, user_password):\n",
    "    connection = None\n",
    "    try:\n",
    "        connection = mysql.connector.connect(\n",
    "            host = host_name,\n",
    "            user = user_name,\n",
    "            password = user_password\n",
    "        )\n",
    "        print('MySQL Database connection successful')\n",
    "    except Error as err:\n",
    "        print(f\"Error: '{err}'\")\n",
    "    return connection\n",
    "\n",
    "# set mySql terminal password and database name\n",
    "\n",
    "pw = '15398574ed'\n",
    "\n",
    "db = 'mysql_python'\n",
    "connection = create_server_connection('localhost', 'root', pw)\n",
    "        "
   ]
  },
  {
   "cell_type": "markdown",
   "id": "1060e4a8",
   "metadata": {},
   "source": [
    "# Creating a Database (Using cursor object)\n",
    "\n",
    "- The cursor() function is used to assist with executing our SQL queries\n",
    "- It is necessary that you use the cursor() to return a Cursor instance corresponding to the database you want to query."
   ]
  },
  {
   "cell_type": "code",
   "execution_count": 16,
   "id": "72da5790",
   "metadata": {},
   "outputs": [
    {
     "name": "stdout",
     "output_type": "stream",
     "text": [
      "Error: '1007 (HY000): Can't create database 'mysql_python'; database exists'\n"
     ]
    }
   ],
   "source": [
    "#Create mySQL_python database\n",
    "\n",
    "def create_database(connection, query):\n",
    "    # The python mysql cursor is used to excecute statement to communicate with the database\n",
    "    cursor = connection.cursor()\n",
    "    try:\n",
    "        # create a new database\n",
    "        cursor.execute(query)\n",
    "        print('Database created successfully')\n",
    "    except Error as err:\n",
    "        print(f\"Error: '{err}'\")\n",
    " #creating a 'mysql_python' database\n",
    "create_database_query = 'Create database mysql_python'\n",
    "\n",
    "create_database(connection, create_database_query)\n",
    "    "
   ]
  },
  {
   "cell_type": "markdown",
   "id": "1052d115",
   "metadata": {},
   "source": [
    "# Connecting to database"
   ]
  },
  {
   "cell_type": "code",
   "execution_count": 21,
   "id": "2943337e",
   "metadata": {},
   "outputs": [],
   "source": [
    "# Write a function that will connect to the database\n",
    "\n",
    "def create_db_connect(host_name, user_name, user_password, db_name):\n",
    "    connection = None\n",
    "    try:\n",
    "        connection = mysql.connector.connect(\n",
    "            host = host_name,\n",
    "            user = user_name,\n",
    "            password = user_password,\n",
    "            database = db_name\n",
    "            )\n",
    "        print('MySQL database connection successfull')\n",
    "    except Error as err:\n",
    "        print(f\"Error: '{err}'\")\n",
    "    return connection\n",
    "    \n",
    "        "
   ]
  },
  {
   "cell_type": "markdown",
   "id": "f2fa918a",
   "metadata": {},
   "source": [
    "# Execute SQL Queries\n",
    "\n",
    "- Execute the query using the cursor variable and use the commit() method. "
   ]
  },
  {
   "cell_type": "code",
   "execution_count": 22,
   "id": "538158cc",
   "metadata": {},
   "outputs": [],
   "source": [
    "# Write a function that excecute SQL queries which allow me to manipute data in the database\n",
    "\n",
    "def execute_query(connection, query):\n",
    "    #establish connection to run sql statement\n",
    "    cursor = connection.cursor()\n",
    "    try:\n",
    "        cursor.execute(query)\n",
    "        connection.commit()\n",
    "        print('Query was successful')\n",
    "    except Error as err:\n",
    "        print(f\"Error: '{err}'\")\n",
    "    "
   ]
  },
  {
   "cell_type": "markdown",
   "id": "03da721b",
   "metadata": {},
   "source": [
    "## Create tables and insert data"
   ]
  },
  {
   "cell_type": "code",
   "execution_count": 23,
   "id": "742b3365",
   "metadata": {},
   "outputs": [
    {
     "name": "stdout",
     "output_type": "stream",
     "text": [
      "MySQL database connection successfull\n",
      "Query was successful\n"
     ]
    }
   ],
   "source": [
    "# Creating an order table\n",
    "\n",
    "create_orders_table = \"\"\"\n",
    "create table orders(\n",
    "order_id int primary key,\n",
    "customer_name  varchar(30) not null,\n",
    "product_name varchar(30) not null,\n",
    "date_ordered date,\n",
    "unit_price float,\n",
    "phone_number varchar(20));\n",
    "\n",
    "\"\"\"\n",
    "\n",
    "# Connect to the database\n",
    "connection = create_db_connect('localhost', 'root', pw, db)\n",
    "execute_query(connection, create_orders_table)"
   ]
  },
  {
   "cell_type": "code",
   "execution_count": 24,
   "id": "73741f8b",
   "metadata": {},
   "outputs": [
    {
     "name": "stdout",
     "output_type": "stream",
     "text": [
      "MySQL database connection successfull\n",
      "Query was successful\n"
     ]
    }
   ],
   "source": [
    "#creating a prodcut table\n",
    "\n",
    "create_product_table = \"\"\"\n",
    "\n",
    "CREATE TABLE `products` (\n",
    "  `product_id` int(11) NOT NULL AUTO_INCREMENT,\n",
    "  `name` varchar(50) NOT NULL,\n",
    "  `quantity_in_stock` int(11) NOT NULL,\n",
    "  `unit_price` decimal(4,2) NOT NULL,\n",
    "  PRIMARY KEY (`product_id`)\n",
    ")\n",
    "\n",
    "\"\"\"\n",
    "\n",
    "#connect to the database\n",
    "connection = create_db_connect('localhost', 'root', pw, db)\n",
    "execute_query(connection, create_product_table)"
   ]
  },
  {
   "cell_type": "code",
   "execution_count": 34,
   "id": "5c04e9fb",
   "metadata": {},
   "outputs": [
    {
     "name": "stdout",
     "output_type": "stream",
     "text": [
      "MySQL database connection successfull\n",
      "Query was successful\n"
     ]
    }
   ],
   "source": [
    "# Insert data into orders table\n",
    "\n",
    "orders_data = \"\"\"\n",
    "insert into orders values\n",
    "(101, 'Mike', 'Laptop','2018-05-21', 1000, '0808034893'),\n",
    "(102, 'Gree', 'Shoes', '2020-02-12', 23, '0808034893'),\n",
    "(103, 'Steve', 'Laptop', '2022-07-3', 1050, '089038403'),\n",
    "(104, 'Glory', 'Tank', '2020-1-10', 102, '090098330'),\n",
    "(105, 'Jane', 'Shirt', '2022-08-4', 16, '080389594');\n",
    "\n",
    "\"\"\"\n",
    "#connect to the database\n",
    "connection = create_db_connect('localhost', 'root', pw, db)\n",
    "execute_query(connection, orders_data)"
   ]
  },
  {
   "cell_type": "code",
   "execution_count": 37,
   "id": "f5cd4d47",
   "metadata": {
    "scrolled": true
   },
   "outputs": [
    {
     "name": "stdout",
     "output_type": "stream",
     "text": [
      "MySQL database connection successfull\n",
      "Query was successful\n"
     ]
    }
   ],
   "source": [
    "# Insert data into products table\n",
    "\n",
    "product_data = \"\"\"\n",
    "insert into products values\n",
    "\n",
    "(1,'Foam Dinner Plate',70,1.21),\n",
    "(2,'Pork - Bacon,back Peameal',49,4.65),\n",
    "(3,'Lettuce - Romaine, Heart',38,3.35),\n",
    "(4,'Brocolinni - Gaylan, Chinese',90,4.53),\n",
    "(5,'Sauce - Ranch Dressing',94,1.63),\n",
    "(6,'Petit Baguette',14,2.39),\n",
    "(7,'Sweet Pea Sprouts',98,3.29),\n",
    "(8,'Island Oasis - Raspberry',26,0.74),\n",
    "(9,'Longan',67,2.26),\n",
    "(10,'Broom - Push',6,1.09);\n",
    "\n",
    "\"\"\"\n",
    "#connect to the database\n",
    "connection = create_db_connect('localhost', 'root', pw, db)\n",
    "execute_query(connection, product_data)\n"
   ]
  },
  {
   "cell_type": "markdown",
   "id": "8eca8965",
   "metadata": {},
   "source": [
    "# Read and display records\n",
    "- Execute the query using the cursor variable from earlier. \n",
    "- This will convert the results to tuples and store it as a local variable. To get all the results we use fetchall()."
   ]
  },
  {
   "cell_type": "code",
   "execution_count": 40,
   "id": "db10e290",
   "metadata": {},
   "outputs": [],
   "source": [
    "# Create function that will user MySQL command to read and display queries\n",
    "\n",
    "def read_query(connection, query):\n",
    "    cursor = connection.cursor()\n",
    "    result =None\n",
    "    try:\n",
    "        cursor.execute(query)\n",
    "        result = cursor.fetchall()# to fetch all the records\n",
    "        return result\n",
    "    except Error as err:\n",
    "        print(f\"Error: '{err}'\")\n",
    "    \n",
    "        "
   ]
  },
  {
   "cell_type": "code",
   "execution_count": 44,
   "id": "bf08ee46",
   "metadata": {},
   "outputs": [
    {
     "name": "stdout",
     "output_type": "stream",
     "text": [
      "MySQL database connection successfull\n",
      "\n",
      "(101, 'Mike', 'Laptop', datetime.date(2018, 5, 21), 1000.0, '0808034893')\n",
      "(102, 'Gree', 'Shoes', datetime.date(2020, 2, 12), 23.0, '0808034893')\n",
      "(103, 'Steve', 'Laptop', datetime.date(2022, 7, 3), 1050.0, '089038403')\n",
      "(104, 'Glory', 'Tank', datetime.date(2020, 1, 10), 102.0, '090098330')\n",
      "(105, 'Jane', 'Shirt', datetime.date(2022, 8, 4), 16.0, '080389594')\n"
     ]
    }
   ],
   "source": [
    "# Using the select clause to fetch all orders records\n",
    "q1 = \"\"\"\n",
    "select * from orders;\n",
    "\"\"\"\n",
    "\n",
    "connection = create_db_connect('localhost', 'root', pw, db)\n",
    "print()\n",
    "results = read_query(connection, q1)\n",
    "for result in results:\n",
    "    print(result)"
   ]
  },
  {
   "cell_type": "code",
   "execution_count": 43,
   "id": "1e817c4a",
   "metadata": {},
   "outputs": [
    {
     "name": "stdout",
     "output_type": "stream",
     "text": [
      "MySQL database connection successfull\n",
      "\n",
      "(1, 'Foam Dinner Plate', 70, Decimal('1.21'))\n",
      "(2, 'Pork - Bacon,back Peameal', 49, Decimal('4.65'))\n",
      "(3, 'Lettuce - Romaine, Heart', 38, Decimal('3.35'))\n",
      "(4, 'Brocolinni - Gaylan, Chinese', 90, Decimal('4.53'))\n",
      "(5, 'Sauce - Ranch Dressing', 94, Decimal('1.63'))\n",
      "(6, 'Petit Baguette', 14, Decimal('2.39'))\n",
      "(7, 'Sweet Pea Sprouts', 98, Decimal('3.29'))\n",
      "(8, 'Island Oasis - Raspberry', 26, Decimal('0.74'))\n",
      "(9, 'Longan', 67, Decimal('2.26'))\n",
      "(10, 'Broom - Push', 6, Decimal('1.09'))\n"
     ]
    }
   ],
   "source": [
    "# Using the select clause to fetch all products records\n",
    "q2 = \"\"\"\n",
    "select * from products;\n",
    "\"\"\"\n",
    "\n",
    "connection = create_db_connect('localhost', 'root', pw, db)\n",
    "print()\n",
    "results = read_query(connection, q2)\n",
    "for result in results:\n",
    "    print(result)"
   ]
  },
  {
   "cell_type": "code",
   "execution_count": 45,
   "id": "5e56c9be",
   "metadata": {},
   "outputs": [
    {
     "name": "stdout",
     "output_type": "stream",
     "text": [
      "MySQL database connection successfull\n",
      "\n",
      "(2018,)\n",
      "(2020,)\n",
      "(2022,)\n",
      "(2020,)\n",
      "(2022,)\n"
     ]
    }
   ],
   "source": [
    "# Using the select clause to fetch all orders year records\n",
    "q3 = \"\"\"\n",
    "select year(date_ordered) \n",
    "from orders;\n",
    "\"\"\"\n",
    "\n",
    "connection = create_db_connect('localhost', 'root', pw, db)\n",
    "print()\n",
    "results = read_query(connection, q3)\n",
    "for result in results:\n",
    "    print(result)"
   ]
  },
  {
   "cell_type": "code",
   "execution_count": 47,
   "id": "cc1bd590",
   "metadata": {
    "scrolled": true
   },
   "outputs": [
    {
     "name": "stdout",
     "output_type": "stream",
     "text": [
      "MySQL database connection successfull\n",
      "\n",
      "(101, 'Mike', 'Laptop', datetime.date(2018, 5, 21), 1000.0, '0808034893')\n",
      "(103, 'Steve', 'Laptop', datetime.date(2022, 7, 3), 1050.0, '089038403')\n",
      "(104, 'Glory', 'Tank', datetime.date(2020, 1, 10), 102.0, '090098330')\n"
     ]
    }
   ],
   "source": [
    "# Using the WHERE clause to fetch orders records\n",
    "q4 = \"\"\"\n",
    "select * \n",
    "from orders\n",
    "where unit_price > 100;\n",
    "\"\"\"\n",
    "\n",
    "connection = create_db_connect('localhost', 'root', pw, db)\n",
    "print()\n",
    "results = read_query(connection, q4)\n",
    "for result in results:\n",
    "    print(result)"
   ]
  },
  {
   "cell_type": "markdown",
   "id": "c0b4a72e",
   "metadata": {},
   "source": [
    "# Converting table to Dataframe"
   ]
  },
  {
   "cell_type": "code",
   "execution_count": 55,
   "id": "65566b4c",
   "metadata": {
    "scrolled": true
   },
   "outputs": [
    {
     "name": "stdout",
     "output_type": "stream",
     "text": [
      "MySQL database connection successfull\n"
     ]
    },
    {
     "data": {
      "text/html": [
       "<div>\n",
       "<style scoped>\n",
       "    .dataframe tbody tr th:only-of-type {\n",
       "        vertical-align: middle;\n",
       "    }\n",
       "\n",
       "    .dataframe tbody tr th {\n",
       "        vertical-align: top;\n",
       "    }\n",
       "\n",
       "    .dataframe thead th {\n",
       "        text-align: right;\n",
       "    }\n",
       "</style>\n",
       "<table border=\"1\" class=\"dataframe\">\n",
       "  <thead>\n",
       "    <tr style=\"text-align: right;\">\n",
       "      <th></th>\n",
       "      <th>order_id</th>\n",
       "      <th>customer_name</th>\n",
       "      <th>product_name</th>\n",
       "      <th>date_ordered</th>\n",
       "      <th>unit_price</th>\n",
       "      <th>phone_number</th>\n",
       "    </tr>\n",
       "  </thead>\n",
       "  <tbody>\n",
       "    <tr>\n",
       "      <th>0</th>\n",
       "      <td>101</td>\n",
       "      <td>Mike</td>\n",
       "      <td>Laptop</td>\n",
       "      <td>2018-05-21</td>\n",
       "      <td>1000.0</td>\n",
       "      <td>0808034893</td>\n",
       "    </tr>\n",
       "    <tr>\n",
       "      <th>1</th>\n",
       "      <td>102</td>\n",
       "      <td>Gree</td>\n",
       "      <td>Shoes</td>\n",
       "      <td>2020-02-12</td>\n",
       "      <td>23.0</td>\n",
       "      <td>0808034893</td>\n",
       "    </tr>\n",
       "    <tr>\n",
       "      <th>2</th>\n",
       "      <td>103</td>\n",
       "      <td>Steve</td>\n",
       "      <td>Laptop</td>\n",
       "      <td>2022-07-03</td>\n",
       "      <td>1050.0</td>\n",
       "      <td>089038403</td>\n",
       "    </tr>\n",
       "    <tr>\n",
       "      <th>3</th>\n",
       "      <td>104</td>\n",
       "      <td>Glory</td>\n",
       "      <td>Tank</td>\n",
       "      <td>2020-01-10</td>\n",
       "      <td>102.0</td>\n",
       "      <td>090098330</td>\n",
       "    </tr>\n",
       "    <tr>\n",
       "      <th>4</th>\n",
       "      <td>105</td>\n",
       "      <td>Jane</td>\n",
       "      <td>Shirt</td>\n",
       "      <td>2022-08-04</td>\n",
       "      <td>16.0</td>\n",
       "      <td>080389594</td>\n",
       "    </tr>\n",
       "  </tbody>\n",
       "</table>\n",
       "</div>"
      ],
      "text/plain": [
       "   order_id customer_name product_name date_ordered  unit_price phone_number\n",
       "0       101          Mike       Laptop   2018-05-21      1000.0   0808034893\n",
       "1       102          Gree        Shoes   2020-02-12        23.0   0808034893\n",
       "2       103         Steve       Laptop   2022-07-03      1050.0    089038403\n",
       "3       104         Glory         Tank   2020-01-10       102.0    090098330\n",
       "4       105          Jane        Shirt   2022-08-04        16.0    080389594"
      ]
     },
     "execution_count": 55,
     "metadata": {},
     "output_type": "execute_result"
    }
   ],
   "source": [
    "# Fetching all the data from orders table\n",
    "order_query = \"\"\"\n",
    "select * from orders;\n",
    "\"\"\"\n",
    "\n",
    "connection = create_db_connect('localhost', 'root', pw, db)\n",
    "\n",
    "\n",
    "\n",
    "#Looping through the order table records\n",
    "order_table = []\n",
    "results = read_query(connection, order_query) # initialize connection\n",
    "for result in results:\n",
    "    result = list(result)\n",
    "    order_table.append(result)\n",
    "columns  = ['order_id','customer_name','product_name','date_ordered','unit_price',\n",
    "            'phone_number']\n",
    "# Create order dataframe\n",
    "\n",
    "order_df = pd.DataFrame(order_table, columns = columns)\n",
    "\n",
    "order_df.head()"
   ]
  },
  {
   "cell_type": "markdown",
   "id": "ae64ca06",
   "metadata": {},
   "source": [
    "## Closing database connection\n",
    "-It is important to close your connection when you are finished. \n",
    "-Closing the connection will grant others access to the database."
   ]
  },
  {
   "cell_type": "code",
   "execution_count": 56,
   "id": "60dcef08",
   "metadata": {},
   "outputs": [],
   "source": [
    "#Closer connection\n",
    "connection.close()"
   ]
  },
  {
   "cell_type": "code",
   "execution_count": null,
   "id": "bc885c12",
   "metadata": {},
   "outputs": [],
   "source": []
  }
 ],
 "metadata": {
  "kernelspec": {
   "display_name": "Python 3 (ipykernel)",
   "language": "python",
   "name": "python3"
  },
  "language_info": {
   "codemirror_mode": {
    "name": "ipython",
    "version": 3
   },
   "file_extension": ".py",
   "mimetype": "text/x-python",
   "name": "python",
   "nbconvert_exporter": "python",
   "pygments_lexer": "ipython3",
   "version": "3.9.13"
  }
 },
 "nbformat": 4,
 "nbformat_minor": 5
}
